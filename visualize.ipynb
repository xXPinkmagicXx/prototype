{
 "cells": [
  {
   "cell_type": "code",
   "execution_count": 1,
   "id": "e7f64918",
   "metadata": {},
   "outputs": [],
   "source": [
    "import pandas as pd\n",
    "import matplotlib.pyplot as plt\n",
    "import constants as c"
   ]
  },
  {
   "cell_type": "code",
   "execution_count": 2,
   "id": "749d83ac",
   "metadata": {},
   "outputs": [],
   "source": [
    "def read_csv_file(api: str, method: str, n_requests: str)-> pd.DataFrame:\n",
    "   file_path = get_file_path(api, method, n_requests)\n",
    "   return pd.read_csv(file_path)\n",
    "\n",
    "def get_file_path(api: str, method: str, n_requests)-> str:\n",
    "   if api == c.API_GRPC:\n",
    "      data_dir = c.GRPC_DATA_DIRECTORY\n",
    "   elif api == c.API_REST:\n",
    "      data_dir = c.REST_DATA_DIRECTORY\n",
    "   else:\n",
    "      raise ValueError()\n",
    "   file_name = \"secure\" + \"_\" + method + \"_\" + str(n_requests)\n",
    "   return data_dir + file_name + \".csv\"\n",
    "   \n",
    "\n",
    "   \n",
    "   "
   ]
  },
  {
   "cell_type": "code",
   "execution_count": 3,
   "id": "b0f4e751",
   "metadata": {},
   "outputs": [],
   "source": [
    "grpc_response_times = []\n",
    "for n_req in c.N_REQUESTS_LIST:\n",
    "   df = read_csv_file(\"grpc\", \"get\", n_req)\n",
    "   value = df.mean()[c.AVERAGE_RESPONSE_TIME_MS_KEY]\n",
    "   grpc_response_times.append(value)"
   ]
  },
  {
   "cell_type": "code",
   "execution_count": 4,
   "id": "36fc5494",
   "metadata": {},
   "outputs": [
    {
     "data": {
      "text/plain": [
       "[np.float64(2.7307498455047607),\n",
       " np.float64(2.502647638320923),\n",
       " np.float64(2.608398115634918)]"
      ]
     },
     "execution_count": 4,
     "metadata": {},
     "output_type": "execute_result"
    }
   ],
   "source": [
    "grpc_response_times"
   ]
  },
  {
   "cell_type": "code",
   "execution_count": null,
   "id": "31634e58",
   "metadata": {},
   "outputs": [],
   "source": [
    "def make_bar_chart(api: str, method: str, metric: str):\n",
    "   # Plotting as a bar chart\n",
    "   bins = [\"100\", \"1000\", \"10000\"]\n",
    "   if metric == c.AVERAGE_RESPONSE_TIME_MS_KEY:\n",
    "      data = get_data_response_time(api, method)\n",
    "   elif metric == c.REQUEST_PER_SEC_KEY:\n",
    "      data = get_data_request_per_sec(api, method)\n",
    "   else:\n",
    "      raise ValueError()\n",
    "   \n",
    "   ax = plt.gca()\n",
    "   ax.spines['top'].set_visible(False)\n",
    "   ax.spines['left'].set_visible(False)\n",
    "   ax.spines['right'].set_visible(False)\n",
    "   \n",
    "   plt.bar(bins, data, color='blue', alpha=0.7)\n",
    "\n",
    "def get_data_response_time(api: str, method: str):\n",
    "   response_times = []\n",
    "   for n_req in c.N_REQUESTS_LIST:\n",
    "      df = read_csv_file(api, method, n_req)\n",
    "      value = df.mean()[c.AVERAGE_RESPONSE_TIME_MS_KEY]\n",
    "      response_times.append(value)\n",
    "   return response_times\n",
    "\n",
    "def get_data_request_per_sec(api: str, method: str):\n",
    "   request_per_sec_data = []\n",
    "   for n_req in c.N_REQUESTS_LIST:\n",
    "      df = read_csv_file(api, method, n_req)\n",
    "      value = df.mean()[c.REQUEST_PER_SEC_KEY]\n",
    "      request_per_sec_data.append(value)\n",
    "   return request_per_sec_data\n"
   ]
  },
  {
   "cell_type": "code",
   "execution_count": null,
   "id": "2d249be2",
   "metadata": {},
   "outputs": [
    {
     "name": "stdout",
     "output_type": "stream",
     "text": [
      "[np.float64(318.11812138739447), np.float64(355.03285602508754), np.float64(339.7950070864839)]\n"
     ]
    },
    {
     "data": {
      "text/plain": [
       "Text(0.5, 1.0, 'grpcget')"
      ]
     },
     "execution_count": 21,
     "metadata": {},
     "output_type": "execute_result"
    },
    {
     "data": {
      "image/png": "[encoded data removed]",
      "text/plain": [
       "<Figure size 640x480 with 1 Axes>"
      ]
     },
     "metadata": {},
     "output_type": "display_data"
    }
   ],
   "source": [
    "# Plotting as a bar chart\n",
    "make_bar_chart(c.API_GRPC, c.METHOD_GET, c.REQUEST_PER_SEC_KEY)\n",
    "plt.xlabel(\"Total # requests\")\n",
    "plt.ylabel(c.REQUEST_PER_SEC_KEY)\n",
    "plt.title(f\"{c.API_GRPC} - {c.METHOD_GET}\")"
   ]
  },
  {
   "cell_type": "code",
   "execution_count": null,
   "id": "9566bb23",
   "metadata": {},
   "outputs": [],
   "source": []
  }
 ],
 "metadata": {
  "kernelspec": {
   "display_name": "sa",
   "language": "python",
   "name": "python3"
  },
  "language_info": {
   "codemirror_mode": {
    "name": "ipython",
    "version": 3
   },
   "file_extension": ".py",
   "mimetype": "text/x-python",
   "name": "python",
   "nbconvert_exporter": "python",
   "pygments_lexer": "ipython3",
   "version": "3.13.2"
  }
 },
 "nbformat": 4,
 "nbformat_minor": 5
}
